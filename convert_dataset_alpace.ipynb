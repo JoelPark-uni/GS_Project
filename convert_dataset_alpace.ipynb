{
 "cells": [
  {
   "cell_type": "code",
   "execution_count": 1,
   "metadata": {},
   "outputs": [],
   "source": [
    "# import pandas as pd\n",
    "# from glob import glob\n",
    "\n",
    "# file_names = glob(\"/root/tango/prompts/gender_disclosure_prompts/*.csv\")\n",
    "# total = pd.DataFrame()\n",
    "\n",
    "# for file_name in file_names:\n",
    "#     temp = pd.read_csv(file_name, sep='구분자', encoding='utf-8') #csv파일을 하나씩 열어 임시 데이터프레임으로 생성한다\n",
    "#     total = pd.concat([total, temp]) #전체 데이터프레임에 추가하여 넣는다\n",
    "\n",
    "# total.to_csv(\"/root/tango/prompts/gender_disclosure_prompts/gender_disclosure_prompts.csv\")"
   ]
  },
  {
   "cell_type": "code",
   "execution_count": 2,
   "metadata": {},
   "outputs": [
    {
     "name": "stderr",
     "output_type": "stream",
     "text": [
      "/root/miniconda3/envs/py3.10/lib/python3.10/site-packages/tqdm/auto.py:21: TqdmWarning: IProgress not found. Please update jupyter and ipywidgets. See https://ipywidgets.readthedocs.io/en/stable/user_install.html\n",
      "  from .autonotebook import tqdm as notebook_tqdm\n"
     ]
    },
    {
     "name": "stdout",
     "output_type": "stream",
     "text": [
      "Dataset({\n",
      "    features: ['template_idx', 'ante', 'ante_type', 'pronoun_family', 'template'],\n",
      "    num_rows: 2880\n",
      "})\n"
     ]
    }
   ],
   "source": [
    "from datasets import load_dataset, Features, Value\n",
    "\n",
    "MG_dataset = load_dataset(\"csv\", data_files=\"/root/tango/prompts/misgendering_prompts.csv\",)\n",
    "MG_dataset = MG_dataset[\"train\"]\n",
    "print(MG_dataset)"
   ]
  },
  {
   "cell_type": "code",
   "execution_count": 3,
   "metadata": {},
   "outputs": [
    {
     "name": "stdout",
     "output_type": "stream",
     "text": [
      "template_idx\n",
      "ante\n",
      "ante_type\n",
      "pronoun_family\n",
      "template\n",
      "2880\n"
     ]
    }
   ],
   "source": [
    "for i in MG_dataset[:40]:\n",
    "    print(i)\n",
    "print(len(MG_dataset))"
   ]
  },
  {
   "cell_type": "code",
   "execution_count": 4,
   "metadata": {},
   "outputs": [
    {
     "name": "stdout",
     "output_type": "stream",
     "text": [
      "Dataset({\n",
      "    features: ['instruction', 'input', 'output'],\n",
      "    num_rows: 2880\n",
      "})\n"
     ]
    }
   ],
   "source": [
    "import datasets\n",
    "\n",
    "data_dict = {\n",
    "    'instruction' : [\"What will be the pronoun of the antecedents?\" for i in range(len(MG_dataset))],\n",
    "    'input' : MG_dataset[\"template\"],\n",
    "    'output' : MG_dataset[\"pronoun_family\"]\n",
    "}\n",
    "\n",
    "alpaca_dataset = datasets.Dataset.from_dict(data_dict)\n",
    "\n",
    "print(alpaca_dataset)"
   ]
  },
  {
   "cell_type": "code",
   "execution_count": 5,
   "metadata": {},
   "outputs": [
    {
     "name": "stderr",
     "output_type": "stream",
     "text": [
      "Creating parquet from Arrow format: 100%|██████████| 3/3 [00:00<00:00, 2115.49ba/s]"
     ]
    }
   ],
   "source": [
    "# alpaca_dataset = datasets.DatasetDict({'train':alpaca_dataset})\n",
    "alpaca_dataset.push_to_hub(\"joel-unist/GenderDisclosureDataset\")"
   ]
  },
  {
   "cell_type": "code",
   "execution_count": null,
   "metadata": {},
   "outputs": [],
   "source": []
  }
 ],
 "metadata": {
  "kernelspec": {
   "display_name": "py3.10",
   "language": "python",
   "name": "python3"
  },
  "language_info": {
   "codemirror_mode": {
    "name": "ipython",
    "version": 3
   },
   "file_extension": ".py",
   "mimetype": "text/x-python",
   "name": "python",
   "nbconvert_exporter": "python",
   "pygments_lexer": "ipython3",
   "version": "3.10.14"
  }
 },
 "nbformat": 4,
 "nbformat_minor": 2
}
